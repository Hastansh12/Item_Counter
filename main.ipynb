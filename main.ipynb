import cv2
import numpy as np

# Load the image
image = cv2.imread(r'task3\freezer_image (1).jpg')

# Convert the image to grayscale
gray = cv2.cvtColor(image, cv2.COLOR_BGR2GRAY)

# Apply edge detection (you can use Canny or any other suitable method)
edges = cv2.Canny(gray, threshold1=30, threshold2=100)

# Find contours in the edges
contours, _ = cv2.findContours(edges, cv2.RETR_EXTERNAL, cv2.CHAIN_APPROX_SIMPLE)

# Initialize a count for items
item_count = 0

# Define a minimum area threshold for detecting items (adjust as needed)
min_item_area = 1000

# Iterate through the detected contours
for contour in contours:
    # Calculate the area of the contour
    area = cv2.contourArea(contour)
    
    # Check if the contour area is above the minimum threshold
    if area > min_item_area:
        # Draw the contour on the original image (optional)
        cv2.drawContours(image, [contour], -1, (0, 255, 0), 2)
        
        # Increment the item count
        item_count += 1

# Display the original image with detected contours (optional)
cv2.imshow('Detected Items', image)
cv2.waitKey(0)
cv2.destroyAllWindows()

# Print the total item count
print(f'Total items detected: {item_count}')
