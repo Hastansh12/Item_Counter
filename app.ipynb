{
 "cells": [
  {
   "cell_type": "code",
   "execution_count": 3,
   "id": "0a70c726",
   "metadata": {},
   "outputs": [
    {
     "name": "stdout",
     "output_type": "stream",
     "text": [
      "Collecting opencv-python\n",
      "  Downloading opencv_python-4.8.0.76-cp37-abi3-win_amd64.whl (38.1 MB)\n",
      "     --------------------------------------- 38.1/38.1 MB 13.6 MB/s eta 0:00:00\n",
      "Requirement already satisfied: numpy>=1.21.2 in c:\\users\\hastansh\\anaconda3\\lib\\site-packages (from opencv-python) (1.23.5)\n",
      "Installing collected packages: opencv-python\n",
      "Successfully installed opencv-python-4.8.0.76\n"
     ]
    }
   ],
   "source": [
    "!pip install opencv-python"
   ]
  },
  {
   "cell_type": "code",
   "execution_count": 22,
   "id": "a3f7df55",
   "metadata": {},
   "outputs": [
    {
     "name": "stdout",
     "output_type": "stream",
     "text": [
      "Total items detected: 99\n"
     ]
    }
   ],
   "source": [
    "import cv2\n",
    "import numpy as np\n",
    "\n",
    "# Load the image\n",
    "image = cv2.imread(r\"C:\\Users\\Hastansh\\OneDrive\\Desktop\\Fabric_defect_detection\\task3\\freezer_image (2).jpg\")\n",
    "\n",
    "# Convert the image to grayscale\n",
    "gray = cv2.cvtColor(image, cv2.COLOR_BGR2GRAY)\n",
    "\n",
    "# Apply edge detection using Canny\n",
    "edges = cv2.Canny(gray, threshold1=30, threshold2=100)\n",
    "\n",
    "# Find contours in the edges\n",
    "contours, _ = cv2.findContours(edges, cv2.RETR_EXTERNAL, cv2.CHAIN_APPROX_SIMPLE)\n",
    "\n",
    "# Initialize a count for items\n",
    "item_count = 0\n",
    "\n",
    "# Define a minimum area threshold for detecting items (adjust as needed)\n",
    "min_item_area = 130\n",
    "\n",
    "# Iterate through the detected contours\n",
    "for contour in contours:\n",
    "    # Calculate the area of the contour\n",
    "    area = cv2.contourArea(contour)\n",
    "    \n",
    "    # Check if the contour area is above the minimum threshold\n",
    "    if area > min_item_area:\n",
    "        # Draw the contour on the original image (optional)\n",
    "        cv2.drawContours(image, [contour], -1, (0, 255, 0), 2)\n",
    "        \n",
    "        # Increment the item count\n",
    "        item_count += 1\n",
    "\n",
    "# Display the original image with detected contours (optional)\n",
    "cv2.imshow('Detected Items', image)\n",
    "cv2.waitKey(0)\n",
    "cv2.destroyAllWindows()\n",
    "\n",
    "# Print the total item count\n",
    "print(f'Total items detected: {item_count}')\n"
   ]
  },
  {
   "cell_type": "code",
   "execution_count": null,
   "id": "c5aecc91",
   "metadata": {},
   "outputs": [],
   "source": []
  }
 ],
 "metadata": {
  "kernelspec": {
   "display_name": "Python 3 (ipykernel)",
   "language": "python",
   "name": "python3"
  },
  "language_info": {
   "codemirror_mode": {
    "name": "ipython",
    "version": 3
   },
   "file_extension": ".py",
   "mimetype": "text/x-python",
   "name": "python",
   "nbconvert_exporter": "python",
   "pygments_lexer": "ipython3",
   "version": "3.10.9"
  }
 },
 "nbformat": 4,
 "nbformat_minor": 5
}
